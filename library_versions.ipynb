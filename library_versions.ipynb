{
 "cells": [
  {
   "cell_type": "code",
   "execution_count": 23,
   "id": "37dce718",
   "metadata": {},
   "outputs": [],
   "source": [
    "import dash\n",
    "import requests\n",
    "import time\n",
    "import csv\n",
    "import sqlite3\n",
    "import folium\n",
    "import geopandas\n",
    "import shapely\n",
    "import _csv\n",
    "import sys"
   ]
  },
  {
   "cell_type": "code",
   "execution_count": 25,
   "id": "ca576e8e",
   "metadata": {},
   "outputs": [
    {
     "name": "stdout",
     "output_type": "stream",
     "text": [
      "dash== 2.15.0\n",
      "requests== 2.31.0\n",
      "sqlite3== 3.45.1\n",
      "folium== 0.15.1\n",
      "geopandas== 0.14.3\n",
      "shapely== 2.0.3\n",
      "sys== 3.11.4 | packaged by Anaconda, Inc. | (main, Jul  5 2023, 13:38:37) [MSC v.1916 64 bit (AMD64)]\n"
     ]
    }
   ],
   "source": [
    "print('dash==',dash.__version__)\n",
    "print('requests==',requests.__version__)\n",
    "print('sqlite3==',\"3.45.1\")\n",
    "print('folium==',folium.__version__)\n",
    "print('geopandas==',geopandas.__version__)\n",
    "print('shapely==',shapely.__version__)\n",
    "print('sys==',sys.version)"
   ]
  },
  {
   "cell_type": "code",
   "execution_count": null,
   "id": "a33ea45e",
   "metadata": {},
   "outputs": [],
   "source": []
  }
 ],
 "metadata": {
  "kernelspec": {
   "display_name": "Python 3 (ipykernel)",
   "language": "python",
   "name": "python3"
  },
  "language_info": {
   "codemirror_mode": {
    "name": "ipython",
    "version": 3
   },
   "file_extension": ".py",
   "mimetype": "text/x-python",
   "name": "python",
   "nbconvert_exporter": "python",
   "pygments_lexer": "ipython3",
   "version": "3.11.4"
  }
 },
 "nbformat": 4,
 "nbformat_minor": 5
}
